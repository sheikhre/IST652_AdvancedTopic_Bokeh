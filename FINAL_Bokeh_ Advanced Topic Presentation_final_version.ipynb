{
 "cells": [
  {
   "cell_type": "markdown",
   "metadata": {},
   "source": [
    "# BOKEH\n"
   ]
  },
  {
   "cell_type": "markdown",
   "metadata": {},
   "source": [
    "-Sainath Choppara & Rehman Sheikh"
   ]
  },
  {
   "cell_type": "markdown",
   "metadata": {},
   "source": [
    "## \"The most sophisticated statistical analysis can be meaningless without an effective means for communicating the results.\""
   ]
  },
  {
   "cell_type": "markdown",
   "metadata": {},
   "source": [
    "Bokeh is an interactive visualization library for modern web browsers.\n",
    "\n",
    "Bokeh can help anyone who would like to quickly and easily make interactive plots, dashboards, and data applications.\n",
    "\n",
    "Bokeh provides two visualization interfaces to users:\n",
    "\n",
    ">bokeh.models : A low level interface that provides high flexibility to application developers.\n",
    "\n",
    ">bokeh.plotting : A high level interface for creating visual glyphs."
   ]
  },
  {
   "cell_type": "markdown",
   "metadata": {},
   "source": [
    "### Creating graphs in Bokeh:\n",
    "\n",
    "In Bokeh, graphs are built one layer at a time.\n",
    "\n",
    "First, you create a figure, then add elements to the figure called glyphs. Glyphs can be circles, lines, bars, patches, etc. You can pass data from Python lists, tuples, Numpy arrays, and Pandas DataFrames to create the visual. \n"
   ]
  },
  {
   "cell_type": "markdown",
   "metadata": {},
   "source": [
    "# Matplotlib vs Seaborn vs Bokeh\n",
    "\n",
    ">Matplotlib is for basic plotting, bars, pies, lines, scatter plots, etc.\n",
    "\n",
    ">Seaborn is for statistical visualization use it, if you're creating heatmaps or somehow summarizing your data and still want to show the distribution of your data\n",
    "\n",
    ">Bokeh is for interactive visualization, if your data is highy complex(i.e. captures maximum details), then use Bokeh to create interactive visualizations that will allow your viewers to explore the data themselves"
   ]
  },
  {
   "cell_type": "markdown",
   "metadata": {},
   "source": [
    "# Visual Comparison of Apple and Google Stock Price"
   ]
  },
  {
   "cell_type": "code",
   "execution_count": 1,
   "metadata": {},
   "outputs": [],
   "source": [
    "import bokeh as bk\n",
    "import bokeh.sampledata\n",
    "#bokeh.sampledata.download()\n"
   ]
  },
  {
   "cell_type": "code",
   "execution_count": 1,
   "metadata": {},
   "outputs": [],
   "source": [
    "import numpy as np\n",
    "from bokeh.layouts import gridplot\n",
    "from bokeh.plotting import figure, show, output_file\n",
    "from bokeh.sampledata.stocks import AAPL, GOOG\n",
    "\n",
    "#defining a function datetime for returnung a datetime type\n",
    "def datetime(x):\n",
    "    return np.array(x, dtype=np.datetime64)\n",
    "\n",
    "#assigning values to x axis and title to the graph\n",
    "p1 = figure(x_axis_type=\"datetime\", title=\"Stock Closing Prices\")\n",
    "\n",
    "#assigning labels to x and y axis\n",
    "p1.xaxis.axis_label = 'Date'\n",
    "p1.yaxis.axis_label = 'Price'\n",
    "\n",
    "#we are assigning date values to x axis, adjusted closing prices of the corresponding stock and adding color to output lines\n",
    "p1.line(datetime(AAPL['date']), AAPL['adj_close'], color='#A6CEE3')\n",
    "p1.line(datetime(GOOG['date']), GOOG['adj_close'], color='#B2DF8A')\n",
    "\n",
    "#assigning apple's closing price and dates. Further, we find the moving average\n",
    "aapl = np.array(AAPL['adj_close'])\n",
    "aapl_dates = np.array(AAPL['date'], dtype=np.datetime64)\n",
    "window_size = 30\n",
    "window = np.ones(window_size)/float(window_size)\n",
    "aapl_avg = np.convolve(aapl, window, 'same')\n",
    "\n",
    "#assigning values to x axis and title to the graph\n",
    "p2 = figure(x_axis_type=\"datetime\", title=\"AAPL One-Month Average\")\n",
    "\n",
    "#assigning labels to x and y axis\n",
    "p2.xaxis.axis_label = 'Date'\n",
    "p2.yaxis.axis_label = 'Price'\n",
    "\n",
    "#defining background colour and intensity of background color.\n",
    "p2.ygrid.band_fill_color = \"red\"\n",
    "p2.ygrid.band_fill_alpha = 0.1\n",
    "\n",
    "#defining the properties of circle which represents apple's stock price\n",
    "p2.circle(aapl_dates, aapl, size=5,color='green', alpha=0.2)\n",
    "\n",
    "#defining the properties of line which represents aapl's average\n",
    "p2.line(aapl_dates, aapl_avg, color='orange',alpha=1)\n",
    "\n",
    "#Configure the default output state to generate output saved to a file when show is called.\n",
    "output_file(\"Apple vs Google.html\", title=\"stocks.py example\")\n",
    "\n",
    "#using show() to display the graphs.\n",
    "show(gridplot([[p1,p2]], plot_width=400, plot_height=400))  # open a browser"
   ]
  },
  {
   "cell_type": "markdown",
   "metadata": {},
   "source": [
    "# New York State Unemployment Rate in 2009"
   ]
  },
  {
   "cell_type": "code",
   "execution_count": 3,
   "metadata": {},
   "outputs": [],
   "source": [
    "from bokeh.io import show\n",
    "from bokeh.models import LogColorMapper\n",
    "from bokeh.palettes import Viridis6 as palette\n",
    "from bokeh.plotting import figure\n",
    "\n",
    "from bokeh.sampledata.us_counties import data as counties\n",
    "from bokeh.sampledata.unemployment import data as unemployment\n",
    "\n",
    "palette.reverse()\n",
    "\n",
    "# Getting the counties for NY state only\n",
    "counties = {\n",
    "    code: county for code, county in counties.items() if county[\"state\"] == \"ny\"\n",
    "}\n",
    "\n",
    "# Getting the longitude and latitude of the counties\n",
    "county_xs = [county[\"lons\"] for county in counties.values()]\n",
    "county_ys = [county[\"lats\"] for county in counties.values()]\n",
    "\n",
    "# Getting the names of the counties\n",
    "county_names = [county['name'] for county in counties.values()]\n",
    "\n",
    "# Getting the unemployment rates from \"unemployment\" based on the county_id in \"counties\"\n",
    "county_rates = [unemployment[county_id] for county_id in counties]\n",
    "\n",
    "# Using the logmap to group and color the map based on the unemp. scalar rates\n",
    "color_mapper = LogColorMapper(palette=palette)\n",
    "\n",
    "# Building a dictionary, calling the x and y values as long and lat, calling the county names, and unemp. rates \n",
    "data=dict(\n",
    "    x=county_xs,\n",
    "    y=county_ys,\n",
    "    name=county_names,\n",
    "    rate=county_rates,\n",
    ")\n",
    "\n",
    "# Definging the tools we want to use on the graph\n",
    "TOOLS = \"pan,wheel_zoom,reset,hover,save\"\n",
    "\n",
    "# Building the nysU figure, defining the title, tools we declared, and the dialog box that appears when hovering\n",
    "nysU = figure(\n",
    "    title=\"State of New York Unemployment, 2009\", tools=TOOLS,\n",
    "    x_axis_location=None, y_axis_location=None,\n",
    "    tooltips=[\n",
    "        (\"Name\", \"@name\"), (\"Unemployment rate)\", \"@rate%\"), (\"(Long, Lat)\", \"($x, $y)\")\n",
    "    ])\n",
    "\n",
    "# Telling the dialog box to follow the mouse\n",
    "nysU.grid.grid_line_color = None\n",
    "nysU.hover.point_policy = \"follow_mouse\"\n",
    "\n",
    "# Defining the patches on the graph, or the \"counties\" - layers on the map model\n",
    "nysU.patches('x', 'y', source=data,\n",
    "          fill_color={'field': 'rate', 'transform': color_mapper},\n",
    "          fill_alpha=0.7, line_color=\"white\", line_width=0.5)\n",
    "\n",
    "# Display the map\n",
    "show(nysU)\n"
   ]
  },
  {
   "cell_type": "markdown",
   "metadata": {},
   "source": [
    "# Bokeh Alternatives:"
   ]
  },
  {
   "cell_type": "markdown",
   "metadata": {},
   "source": [
    "\n",
    ">pygal - Sutied for smaller datasets and easy to use with small lines of code - can export as SVG\n",
    "\n",
    ">mpld3 - Uses matplotlib and D3\n",
    "\n",
    ">Plot.ly - JSON-based plot tool"
   ]
  },
  {
   "cell_type": "code",
   "execution_count": null,
   "metadata": {},
   "outputs": [],
   "source": []
  }
 ],
 "metadata": {
  "kernelspec": {
   "display_name": "Python 3",
   "language": "python",
   "name": "python3"
  },
  "language_info": {
   "codemirror_mode": {
    "name": "ipython",
    "version": 3
   },
   "file_extension": ".py",
   "mimetype": "text/x-python",
   "name": "python",
   "nbconvert_exporter": "python",
   "pygments_lexer": "ipython3",
   "version": "3.7.4"
  }
 },
 "nbformat": 4,
 "nbformat_minor": 2
}
